{
 "cells": [
  {
   "cell_type": "code",
   "execution_count": 1,
   "metadata": {
    "ExecuteTime": {
     "end_time": "2018-11-28T19:24:50.605733Z",
     "start_time": "2018-11-28T19:24:50.601743Z"
    },
    "colab": {
     "base_uri": "https://localhost:8080/",
     "height": 54
    },
    "colab_type": "code",
    "id": "s5IKLee6SxQi",
    "outputId": "1a72020f-998d-4073-da4a-e3a794fb9ccc"
   },
   "outputs": [],
   "source": [
    "# from google.colab import drive\n",
    "# drive.mount('/content/drive/')"
   ]
  },
  {
   "cell_type": "code",
   "execution_count": 1,
   "metadata": {
    "ExecuteTime": {
     "end_time": "2018-11-28T20:29:21.781945Z",
     "start_time": "2018-11-28T20:29:21.766985Z"
    },
    "colab": {},
    "colab_type": "code",
    "id": "aF7xCtbHgbLv"
   },
   "outputs": [],
   "source": [
    "with open('census.txt') as f:\n",
    "    census_api_key = f.readline().split('\\n')[0]"
   ]
  },
  {
   "cell_type": "markdown",
   "metadata": {
    "colab_type": "text",
    "id": "L0e0rCiCS558"
   },
   "source": [
    "# Gathering Data\n",
    " - Using census api and brfss"
   ]
  },
  {
   "cell_type": "markdown",
   "metadata": {
    "colab_type": "text",
    "id": "Q329sy_6gtKB"
   },
   "source": [
    "## ACS Census Data"
   ]
  },
  {
   "cell_type": "code",
   "execution_count": 2,
   "metadata": {
    "ExecuteTime": {
     "end_time": "2018-11-28T20:29:26.053895Z",
     "start_time": "2018-11-28T20:29:21.782941Z"
    },
    "colab": {
     "base_uri": "https://localhost:8080/",
     "height": 195
    },
    "colab_type": "code",
    "id": "KGBBEnqkTFge",
    "outputId": "80ae5c30-a498-4afa-d56e-208a0ed3efd9"
   },
   "outputs": [],
   "source": [
    "#required packages\n",
    "import pandas as pd;\n",
    "# !pip install census;\n",
    "# !pip install us;"
   ]
  },
  {
   "cell_type": "code",
   "execution_count": 3,
   "metadata": {
    "ExecuteTime": {
     "end_time": "2018-11-28T20:29:40.261963Z",
     "start_time": "2018-11-28T20:29:26.055891Z"
    },
    "colab": {
     "base_uri": "https://localhost:8080/",
     "height": 1101
    },
    "colab_type": "code",
    "id": "0x2XRmQgTPU3",
    "outputId": "62f3f85f-e9f4-4537-eac0-c26eb7b99875"
   },
   "outputs": [
    {
     "data": {
      "text/html": [
       "<div>\n",
       "<style scoped>\n",
       "    .dataframe tbody tr th:only-of-type {\n",
       "        vertical-align: middle;\n",
       "    }\n",
       "\n",
       "    .dataframe tbody tr th {\n",
       "        vertical-align: top;\n",
       "    }\n",
       "\n",
       "    .dataframe thead th {\n",
       "        text-align: right;\n",
       "    }\n",
       "</style>\n",
       "<table border=\"1\" class=\"dataframe\">\n",
       "  <thead>\n",
       "    <tr style=\"text-align: right;\">\n",
       "      <th></th>\n",
       "      <th>median_income</th>\n",
       "      <th>some_insurance</th>\n",
       "      <th>no_insurance</th>\n",
       "      <th>has_edu_health_socservices_job</th>\n",
       "      <th>county_name</th>\n",
       "    </tr>\n",
       "    <tr>\n",
       "      <th>county</th>\n",
       "      <th></th>\n",
       "      <th></th>\n",
       "      <th></th>\n",
       "      <th></th>\n",
       "      <th></th>\n",
       "    </tr>\n",
       "  </thead>\n",
       "  <tbody>\n",
       "    <tr>\n",
       "      <th>001</th>\n",
       "      <td>34223.0</td>\n",
       "      <td>0.084999</td>\n",
       "      <td>0.915001</td>\n",
       "      <td>0.226367</td>\n",
       "      <td>Alameda County, California</td>\n",
       "    </tr>\n",
       "    <tr>\n",
       "      <th>003</th>\n",
       "      <td>27464.0</td>\n",
       "      <td>0.092732</td>\n",
       "      <td>0.907268</td>\n",
       "      <td>0.241697</td>\n",
       "      <td>Alpine County, California</td>\n",
       "    </tr>\n",
       "    <tr>\n",
       "      <th>005</th>\n",
       "      <td>25559.0</td>\n",
       "      <td>0.102707</td>\n",
       "      <td>0.897293</td>\n",
       "      <td>0.200112</td>\n",
       "      <td>Amador County, California</td>\n",
       "    </tr>\n",
       "  </tbody>\n",
       "</table>\n",
       "</div>"
      ],
      "text/plain": [
       "        median_income  some_insurance  no_insurance  \\\n",
       "county                                                \n",
       "001           34223.0        0.084999      0.915001   \n",
       "003           27464.0        0.092732      0.907268   \n",
       "005           25559.0        0.102707      0.897293   \n",
       "\n",
       "        has_edu_health_socservices_job                 county_name  \n",
       "county                                                              \n",
       "001                           0.226367  Alameda County, California  \n",
       "003                           0.241697   Alpine County, California  \n",
       "005                           0.200112   Amador County, California  "
      ]
     },
     "metadata": {},
     "output_type": "display_data"
    },
    {
     "data": {
      "text/plain": [
       "(58, 5)"
      ]
     },
     "metadata": {},
     "output_type": "display_data"
    },
    {
     "data": {
      "text/html": [
       "<div>\n",
       "<style scoped>\n",
       "    .dataframe tbody tr th:only-of-type {\n",
       "        vertical-align: middle;\n",
       "    }\n",
       "\n",
       "    .dataframe tbody tr th {\n",
       "        vertical-align: top;\n",
       "    }\n",
       "\n",
       "    .dataframe thead th {\n",
       "        text-align: right;\n",
       "    }\n",
       "</style>\n",
       "<table border=\"1\" class=\"dataframe\">\n",
       "  <thead>\n",
       "    <tr style=\"text-align: right;\">\n",
       "      <th></th>\n",
       "      <th>median_income</th>\n",
       "      <th>some_insurance</th>\n",
       "      <th>no_insurance</th>\n",
       "      <th>has_edu_health_socservices_job</th>\n",
       "      <th>county_name</th>\n",
       "    </tr>\n",
       "    <tr>\n",
       "      <th>county</th>\n",
       "      <th></th>\n",
       "      <th></th>\n",
       "      <th></th>\n",
       "      <th></th>\n",
       "      <th></th>\n",
       "    </tr>\n",
       "  </thead>\n",
       "  <tbody>\n",
       "    <tr>\n",
       "      <th>001</th>\n",
       "      <td>33894.0</td>\n",
       "      <td>0.089769</td>\n",
       "      <td>0.910231</td>\n",
       "      <td>0.227650</td>\n",
       "      <td>Alameda County, California</td>\n",
       "    </tr>\n",
       "    <tr>\n",
       "      <th>003</th>\n",
       "      <td>26357.0</td>\n",
       "      <td>0.095279</td>\n",
       "      <td>0.904721</td>\n",
       "      <td>0.175589</td>\n",
       "      <td>Alpine County, California</td>\n",
       "    </tr>\n",
       "    <tr>\n",
       "      <th>005</th>\n",
       "      <td>26176.0</td>\n",
       "      <td>0.110027</td>\n",
       "      <td>0.889973</td>\n",
       "      <td>0.194385</td>\n",
       "      <td>Amador County, California</td>\n",
       "    </tr>\n",
       "  </tbody>\n",
       "</table>\n",
       "</div>"
      ],
      "text/plain": [
       "        median_income  some_insurance  no_insurance  \\\n",
       "county                                                \n",
       "001           33894.0        0.089769      0.910231   \n",
       "003           26357.0        0.095279      0.904721   \n",
       "005           26176.0        0.110027      0.889973   \n",
       "\n",
       "        has_edu_health_socservices_job                 county_name  \n",
       "county                                                              \n",
       "001                           0.227650  Alameda County, California  \n",
       "003                           0.175589   Alpine County, California  \n",
       "005                           0.194385   Amador County, California  "
      ]
     },
     "metadata": {},
     "output_type": "display_data"
    },
    {
     "data": {
      "text/plain": [
       "(58, 5)"
      ]
     },
     "metadata": {},
     "output_type": "display_data"
    },
    {
     "data": {
      "text/html": [
       "<div>\n",
       "<style scoped>\n",
       "    .dataframe tbody tr th:only-of-type {\n",
       "        vertical-align: middle;\n",
       "    }\n",
       "\n",
       "    .dataframe tbody tr th {\n",
       "        vertical-align: top;\n",
       "    }\n",
       "\n",
       "    .dataframe thead th {\n",
       "        text-align: right;\n",
       "    }\n",
       "</style>\n",
       "<table border=\"1\" class=\"dataframe\">\n",
       "  <thead>\n",
       "    <tr style=\"text-align: right;\">\n",
       "      <th></th>\n",
       "      <th>median_income</th>\n",
       "      <th>some_insurance</th>\n",
       "      <th>no_insurance</th>\n",
       "      <th>has_edu_health_socservices_job</th>\n",
       "      <th>county_name</th>\n",
       "    </tr>\n",
       "    <tr>\n",
       "      <th>county</th>\n",
       "      <th></th>\n",
       "      <th></th>\n",
       "      <th></th>\n",
       "      <th></th>\n",
       "      <th></th>\n",
       "    </tr>\n",
       "  </thead>\n",
       "  <tbody>\n",
       "    <tr>\n",
       "      <th>001</th>\n",
       "      <td>34086.0</td>\n",
       "      <td>0.100290</td>\n",
       "      <td>0.899710</td>\n",
       "      <td>0.225663</td>\n",
       "      <td>Alameda County, California</td>\n",
       "    </tr>\n",
       "    <tr>\n",
       "      <th>003</th>\n",
       "      <td>25278.0</td>\n",
       "      <td>0.147255</td>\n",
       "      <td>0.852745</td>\n",
       "      <td>0.134653</td>\n",
       "      <td>Alpine County, California</td>\n",
       "    </tr>\n",
       "    <tr>\n",
       "      <th>005</th>\n",
       "      <td>25097.0</td>\n",
       "      <td>0.121449</td>\n",
       "      <td>0.878551</td>\n",
       "      <td>0.184728</td>\n",
       "      <td>Amador County, California</td>\n",
       "    </tr>\n",
       "  </tbody>\n",
       "</table>\n",
       "</div>"
      ],
      "text/plain": [
       "        median_income  some_insurance  no_insurance  \\\n",
       "county                                                \n",
       "001           34086.0        0.100290      0.899710   \n",
       "003           25278.0        0.147255      0.852745   \n",
       "005           25097.0        0.121449      0.878551   \n",
       "\n",
       "        has_edu_health_socservices_job                 county_name  \n",
       "county                                                              \n",
       "001                           0.225663  Alameda County, California  \n",
       "003                           0.134653   Alpine County, California  \n",
       "005                           0.184728   Amador County, California  "
      ]
     },
     "metadata": {},
     "output_type": "display_data"
    },
    {
     "data": {
      "text/plain": [
       "(58, 5)"
      ]
     },
     "metadata": {},
     "output_type": "display_data"
    },
    {
     "data": {
      "text/html": [
       "<div>\n",
       "<style scoped>\n",
       "    .dataframe tbody tr th:only-of-type {\n",
       "        vertical-align: middle;\n",
       "    }\n",
       "\n",
       "    .dataframe tbody tr th {\n",
       "        vertical-align: top;\n",
       "    }\n",
       "\n",
       "    .dataframe thead th {\n",
       "        text-align: right;\n",
       "    }\n",
       "</style>\n",
       "<table border=\"1\" class=\"dataframe\">\n",
       "  <thead>\n",
       "    <tr style=\"text-align: right;\">\n",
       "      <th></th>\n",
       "      <th>median_income</th>\n",
       "      <th>some_insurance</th>\n",
       "      <th>no_insurance</th>\n",
       "      <th>has_edu_health_socservices_job</th>\n",
       "      <th>county_name</th>\n",
       "    </tr>\n",
       "    <tr>\n",
       "      <th>county</th>\n",
       "      <th></th>\n",
       "      <th></th>\n",
       "      <th></th>\n",
       "      <th></th>\n",
       "      <th></th>\n",
       "    </tr>\n",
       "  </thead>\n",
       "  <tbody>\n",
       "    <tr>\n",
       "      <th>001</th>\n",
       "      <td>34761.0</td>\n",
       "      <td>0.111247</td>\n",
       "      <td>0.888753</td>\n",
       "      <td>0.224455</td>\n",
       "      <td>Alameda County, California</td>\n",
       "    </tr>\n",
       "    <tr>\n",
       "      <th>003</th>\n",
       "      <td>19420.0</td>\n",
       "      <td>0.142352</td>\n",
       "      <td>0.857648</td>\n",
       "      <td>0.154412</td>\n",
       "      <td>Alpine County, California</td>\n",
       "    </tr>\n",
       "    <tr>\n",
       "      <th>005</th>\n",
       "      <td>26420.0</td>\n",
       "      <td>0.128893</td>\n",
       "      <td>0.871107</td>\n",
       "      <td>0.194385</td>\n",
       "      <td>Amador County, California</td>\n",
       "    </tr>\n",
       "  </tbody>\n",
       "</table>\n",
       "</div>"
      ],
      "text/plain": [
       "        median_income  some_insurance  no_insurance  \\\n",
       "county                                                \n",
       "001           34761.0        0.111247      0.888753   \n",
       "003           19420.0        0.142352      0.857648   \n",
       "005           26420.0        0.128893      0.871107   \n",
       "\n",
       "        has_edu_health_socservices_job                 county_name  \n",
       "county                                                              \n",
       "001                           0.224455  Alameda County, California  \n",
       "003                           0.154412   Alpine County, California  \n",
       "005                           0.194385   Amador County, California  "
      ]
     },
     "metadata": {},
     "output_type": "display_data"
    },
    {
     "data": {
      "text/plain": [
       "(58, 5)"
      ]
     },
     "metadata": {},
     "output_type": "display_data"
    },
    {
     "data": {
      "text/html": [
       "<div>\n",
       "<style scoped>\n",
       "    .dataframe tbody tr th:only-of-type {\n",
       "        vertical-align: middle;\n",
       "    }\n",
       "\n",
       "    .dataframe tbody tr th {\n",
       "        vertical-align: top;\n",
       "    }\n",
       "\n",
       "    .dataframe thead th {\n",
       "        text-align: right;\n",
       "    }\n",
       "</style>\n",
       "<table border=\"1\" class=\"dataframe\">\n",
       "  <thead>\n",
       "    <tr style=\"text-align: right;\">\n",
       "      <th></th>\n",
       "      <th>median_income</th>\n",
       "      <th>some_insurance</th>\n",
       "      <th>no_insurance</th>\n",
       "      <th>has_edu_health_socservices_job</th>\n",
       "      <th>county_name</th>\n",
       "    </tr>\n",
       "    <tr>\n",
       "      <th>county</th>\n",
       "      <th></th>\n",
       "      <th></th>\n",
       "      <th></th>\n",
       "      <th></th>\n",
       "      <th></th>\n",
       "    </tr>\n",
       "  </thead>\n",
       "  <tbody>\n",
       "    <tr>\n",
       "      <th>001</th>\n",
       "      <td>36303.0</td>\n",
       "      <td>0.133606</td>\n",
       "      <td>0.866394</td>\n",
       "      <td>0.221210</td>\n",
       "      <td>Alameda County, California</td>\n",
       "    </tr>\n",
       "    <tr>\n",
       "      <th>003</th>\n",
       "      <td>22500.0</td>\n",
       "      <td>0.184966</td>\n",
       "      <td>0.815034</td>\n",
       "      <td>0.181598</td>\n",
       "      <td>Alpine County, California</td>\n",
       "    </tr>\n",
       "    <tr>\n",
       "      <th>005</th>\n",
       "      <td>27873.0</td>\n",
       "      <td>0.133436</td>\n",
       "      <td>0.866564</td>\n",
       "      <td>0.190884</td>\n",
       "      <td>Amador County, California</td>\n",
       "    </tr>\n",
       "  </tbody>\n",
       "</table>\n",
       "</div>"
      ],
      "text/plain": [
       "        median_income  some_insurance  no_insurance  \\\n",
       "county                                                \n",
       "001           36303.0        0.133606      0.866394   \n",
       "003           22500.0        0.184966      0.815034   \n",
       "005           27873.0        0.133436      0.866564   \n",
       "\n",
       "        has_edu_health_socservices_job                 county_name  \n",
       "county                                                              \n",
       "001                           0.221210  Alameda County, California  \n",
       "003                           0.181598   Alpine County, California  \n",
       "005                           0.190884   Amador County, California  "
      ]
     },
     "metadata": {},
     "output_type": "display_data"
    },
    {
     "data": {
      "text/plain": [
       "(58, 5)"
      ]
     },
     "metadata": {},
     "output_type": "display_data"
    }
   ],
   "source": [
    "from census import Census\n",
    "from us import states\n",
    "c = Census(census_api_key)\n",
    "#pull % of people in each county with insurance\n",
    "varnames = {\n",
    "    'NAME':'county_name',\n",
    "    'B992701_001E':'total_for_insurance',\n",
    "    'B992701_002E':'some_insurance',\n",
    "    'B992701_003E':'no_insurance',\n",
    "    'B21004_001E':'median_income',\n",
    "    'C24070_011E':'has_edu_health_socservices_job',\n",
    "    'C24070_001E':'total_for_job_industry'\n",
    "}\n",
    "variables_to_get = tuple( list( varnames.keys()))\n",
    "\n",
    "years = [2012,2013,2014,2015,2016]\n",
    "dflist = []\n",
    "for yr in years:\n",
    "    dflist.append(\n",
    "        pd.DataFrame(\n",
    "            c.acs5.get(variables_to_get, geo={'for': 'county:*', 'in': 'state:{}'.format(states.CA.fips)},year=yr)\n",
    "        ))\n",
    " \n",
    "# dflist[0] = 2012 dataset\n",
    "# dflist[4] = 2016 dataset\n",
    "for df in dflist:\n",
    "    df.rename(columns=varnames,inplace=True)\n",
    "    #put into fractions\n",
    "    df.loc[:,'some_insurance'] = df.loc[:,'some_insurance'] / df.loc[:,'total_for_insurance']\n",
    "    df.loc[:,'no_insurance'] = df.loc[:,'no_insurance'] / df.loc[:,'total_for_insurance']\n",
    "    df.loc[:,'has_edu_health_socservices_job'] = df.loc[:,'has_edu_health_socservices_job'] / df.loc[:,'total_for_job_industry']\n",
    "    df.rename(columns=varnames,inplace=True)\n",
    "    df.set_index('county',inplace=True)\n",
    "    df.drop(columns=['state','total_for_insurance','total_for_job_industry'],inplace=True)\n",
    "    \n",
    "    display( df.head(3) )\n",
    "    display( df.shape )"
   ]
  },
  {
   "cell_type": "markdown",
   "metadata": {
    "colab_type": "text",
    "id": "vZhO-ZIhEv8S"
   },
   "source": [
    "## CDC Ground Truth for Labels\n"
   ]
  },
  {
   "cell_type": "code",
   "execution_count": 4,
   "metadata": {
    "ExecuteTime": {
     "end_time": "2018-11-28T20:29:40.512465Z",
     "start_time": "2018-11-28T20:29:40.272934Z"
    },
    "colab": {
     "base_uri": "https://localhost:8080/",
     "height": 34
    },
    "colab_type": "code",
    "id": "fQSh4PgChNvr",
    "outputId": "f7673000-246a-4796-9b76-4602ddf1ff9c"
   },
   "outputs": [],
   "source": [
    "# !pip install xlrd\n",
    "healthcare_df = pd.read_excel('hcp-flu-vax-by-county-20162017data.xlsx')"
   ]
  },
  {
   "cell_type": "code",
   "execution_count": 5,
   "metadata": {
    "ExecuteTime": {
     "end_time": "2018-11-28T20:29:40.528423Z",
     "start_time": "2018-11-28T20:29:40.514427Z"
    },
    "colab": {
     "base_uri": "https://localhost:8080/",
     "height": 1705
    },
    "colab_type": "code",
    "id": "1Z5U0KbPOwWE",
    "outputId": "42519af5-9730-453f-807a-bbd6ed389d0f"
   },
   "outputs": [
    {
     "data": {
      "text/html": [
       "<div>\n",
       "<style scoped>\n",
       "    .dataframe tbody tr th:only-of-type {\n",
       "        vertical-align: middle;\n",
       "    }\n",
       "\n",
       "    .dataframe tbody tr th {\n",
       "        vertical-align: top;\n",
       "    }\n",
       "\n",
       "    .dataframe thead th {\n",
       "        text-align: right;\n",
       "    }\n",
       "</style>\n",
       "<table border=\"1\" class=\"dataframe\">\n",
       "  <thead>\n",
       "    <tr style=\"text-align: right;\">\n",
       "      <th></th>\n",
       "      <th>hcp_vaccinated</th>\n",
       "    </tr>\n",
       "    <tr>\n",
       "      <th>County</th>\n",
       "      <th></th>\n",
       "    </tr>\n",
       "  </thead>\n",
       "  <tbody>\n",
       "    <tr>\n",
       "      <th>Alameda</th>\n",
       "      <td>87.0</td>\n",
       "    </tr>\n",
       "    <tr>\n",
       "      <th>Amador</th>\n",
       "      <td>86.0</td>\n",
       "    </tr>\n",
       "    <tr>\n",
       "      <th>Butte</th>\n",
       "      <td>77.1</td>\n",
       "    </tr>\n",
       "    <tr>\n",
       "      <th>Calaveras</th>\n",
       "      <td>97.6</td>\n",
       "    </tr>\n",
       "    <tr>\n",
       "      <th>Contra Costa</th>\n",
       "      <td>82.5</td>\n",
       "    </tr>\n",
       "    <tr>\n",
       "      <th>Del Norte</th>\n",
       "      <td>89.1</td>\n",
       "    </tr>\n",
       "    <tr>\n",
       "      <th>El Dorado</th>\n",
       "      <td>89.0</td>\n",
       "    </tr>\n",
       "    <tr>\n",
       "      <th>Fresno</th>\n",
       "      <td>86.9</td>\n",
       "    </tr>\n",
       "    <tr>\n",
       "      <th>Glenn</th>\n",
       "      <td>84.0</td>\n",
       "    </tr>\n",
       "    <tr>\n",
       "      <th>Humboldt</th>\n",
       "      <td>87.0</td>\n",
       "    </tr>\n",
       "    <tr>\n",
       "      <th>Imperial</th>\n",
       "      <td>79.8</td>\n",
       "    </tr>\n",
       "    <tr>\n",
       "      <th>Inyo</th>\n",
       "      <td>92.3</td>\n",
       "    </tr>\n",
       "    <tr>\n",
       "      <th>Kern</th>\n",
       "      <td>69.6</td>\n",
       "    </tr>\n",
       "    <tr>\n",
       "      <th>Kings</th>\n",
       "      <td>90.6</td>\n",
       "    </tr>\n",
       "    <tr>\n",
       "      <th>Lake</th>\n",
       "      <td>79.0</td>\n",
       "    </tr>\n",
       "    <tr>\n",
       "      <th>Lassen</th>\n",
       "      <td>84.2</td>\n",
       "    </tr>\n",
       "    <tr>\n",
       "      <th>Los Angeles</th>\n",
       "      <td>80.5</td>\n",
       "    </tr>\n",
       "    <tr>\n",
       "      <th>Madera</th>\n",
       "      <td>96.1</td>\n",
       "    </tr>\n",
       "    <tr>\n",
       "      <th>Marin</th>\n",
       "      <td>91.7</td>\n",
       "    </tr>\n",
       "    <tr>\n",
       "      <th>Mariposa</th>\n",
       "      <td>83.6</td>\n",
       "    </tr>\n",
       "    <tr>\n",
       "      <th>Mendocino</th>\n",
       "      <td>88.1</td>\n",
       "    </tr>\n",
       "    <tr>\n",
       "      <th>Merced</th>\n",
       "      <td>90.5</td>\n",
       "    </tr>\n",
       "    <tr>\n",
       "      <th>Modoc</th>\n",
       "      <td>82.1</td>\n",
       "    </tr>\n",
       "    <tr>\n",
       "      <th>Mono</th>\n",
       "      <td>89.7</td>\n",
       "    </tr>\n",
       "    <tr>\n",
       "      <th>Monterey</th>\n",
       "      <td>83.0</td>\n",
       "    </tr>\n",
       "    <tr>\n",
       "      <th>Napa</th>\n",
       "      <td>76.1</td>\n",
       "    </tr>\n",
       "    <tr>\n",
       "      <th>Nevada</th>\n",
       "      <td>84.4</td>\n",
       "    </tr>\n",
       "    <tr>\n",
       "      <th>Orange</th>\n",
       "      <td>82.8</td>\n",
       "    </tr>\n",
       "    <tr>\n",
       "      <th>Placer</th>\n",
       "      <td>82.3</td>\n",
       "    </tr>\n",
       "    <tr>\n",
       "      <th>Plumas</th>\n",
       "      <td>87.8</td>\n",
       "    </tr>\n",
       "    <tr>\n",
       "      <th>Riverside</th>\n",
       "      <td>74.6</td>\n",
       "    </tr>\n",
       "    <tr>\n",
       "      <th>Sacramento</th>\n",
       "      <td>86.8</td>\n",
       "    </tr>\n",
       "    <tr>\n",
       "      <th>San Benito</th>\n",
       "      <td>74.8</td>\n",
       "    </tr>\n",
       "    <tr>\n",
       "      <th>San Bernardino</th>\n",
       "      <td>85.0</td>\n",
       "    </tr>\n",
       "    <tr>\n",
       "      <th>San Diego</th>\n",
       "      <td>91.1</td>\n",
       "    </tr>\n",
       "    <tr>\n",
       "      <th>San Francisco</th>\n",
       "      <td>77.7</td>\n",
       "    </tr>\n",
       "    <tr>\n",
       "      <th>San Joaquin</th>\n",
       "      <td>87.4</td>\n",
       "    </tr>\n",
       "    <tr>\n",
       "      <th>San Luis Obispo</th>\n",
       "      <td>89.6</td>\n",
       "    </tr>\n",
       "    <tr>\n",
       "      <th>San Mateo</th>\n",
       "      <td>84.8</td>\n",
       "    </tr>\n",
       "    <tr>\n",
       "      <th>Santa Barbara</th>\n",
       "      <td>94.3</td>\n",
       "    </tr>\n",
       "    <tr>\n",
       "      <th>Santa Clara</th>\n",
       "      <td>84.5</td>\n",
       "    </tr>\n",
       "    <tr>\n",
       "      <th>Santa Cruz</th>\n",
       "      <td>87.1</td>\n",
       "    </tr>\n",
       "    <tr>\n",
       "      <th>Shasta</th>\n",
       "      <td>94.3</td>\n",
       "    </tr>\n",
       "    <tr>\n",
       "      <th>Siskiyou</th>\n",
       "      <td>92.7</td>\n",
       "    </tr>\n",
       "    <tr>\n",
       "      <th>Solano</th>\n",
       "      <td>87.9</td>\n",
       "    </tr>\n",
       "    <tr>\n",
       "      <th>Sonoma</th>\n",
       "      <td>79.4</td>\n",
       "    </tr>\n",
       "    <tr>\n",
       "      <th>Stanislaus</th>\n",
       "      <td>75.2</td>\n",
       "    </tr>\n",
       "    <tr>\n",
       "      <th>Sutter</th>\n",
       "      <td>79.2</td>\n",
       "    </tr>\n",
       "    <tr>\n",
       "      <th>Tehama</th>\n",
       "      <td>94.8</td>\n",
       "    </tr>\n",
       "    <tr>\n",
       "      <th>Trinity</th>\n",
       "      <td>84.8</td>\n",
       "    </tr>\n",
       "    <tr>\n",
       "      <th>Tulare</th>\n",
       "      <td>91.7</td>\n",
       "    </tr>\n",
       "    <tr>\n",
       "      <th>Tuolumne</th>\n",
       "      <td>82.2</td>\n",
       "    </tr>\n",
       "    <tr>\n",
       "      <th>Ventura</th>\n",
       "      <td>70.6</td>\n",
       "    </tr>\n",
       "    <tr>\n",
       "      <th>Yolo</th>\n",
       "      <td>89.1</td>\n",
       "    </tr>\n",
       "    <tr>\n",
       "      <th>Yuba</th>\n",
       "      <td>92.3</td>\n",
       "    </tr>\n",
       "  </tbody>\n",
       "</table>\n",
       "</div>"
      ],
      "text/plain": [
       "                 hcp_vaccinated\n",
       "County                         \n",
       "Alameda                    87.0\n",
       "Amador                     86.0\n",
       "Butte                      77.1\n",
       "Calaveras                  97.6\n",
       "Contra Costa               82.5\n",
       "Del Norte                  89.1\n",
       "El Dorado                  89.0\n",
       "Fresno                     86.9\n",
       "Glenn                      84.0\n",
       "Humboldt                   87.0\n",
       "Imperial                   79.8\n",
       "Inyo                       92.3\n",
       "Kern                       69.6\n",
       "Kings                      90.6\n",
       "Lake                       79.0\n",
       "Lassen                     84.2\n",
       "Los Angeles                80.5\n",
       "Madera                     96.1\n",
       "Marin                      91.7\n",
       "Mariposa                   83.6\n",
       "Mendocino                  88.1\n",
       "Merced                     90.5\n",
       "Modoc                      82.1\n",
       "Mono                       89.7\n",
       "Monterey                   83.0\n",
       "Napa                       76.1\n",
       "Nevada                     84.4\n",
       "Orange                     82.8\n",
       "Placer                     82.3\n",
       "Plumas                     87.8\n",
       "Riverside                  74.6\n",
       "Sacramento                 86.8\n",
       "San Benito                 74.8\n",
       "San Bernardino             85.0\n",
       "San Diego                  91.1\n",
       "San Francisco              77.7\n",
       "San Joaquin                87.4\n",
       "San Luis Obispo            89.6\n",
       "San Mateo                  84.8\n",
       "Santa Barbara              94.3\n",
       "Santa Clara                84.5\n",
       "Santa Cruz                 87.1\n",
       "Shasta                     94.3\n",
       "Siskiyou                   92.7\n",
       "Solano                     87.9\n",
       "Sonoma                     79.4\n",
       "Stanislaus                 75.2\n",
       "Sutter                     79.2\n",
       "Tehama                     94.8\n",
       "Trinity                    84.8\n",
       "Tulare                     91.7\n",
       "Tuolumne                   82.2\n",
       "Ventura                    70.6\n",
       "Yolo                       89.1\n",
       "Yuba                       92.3"
      ]
     },
     "execution_count": 5,
     "metadata": {},
     "output_type": "execute_result"
    }
   ],
   "source": [
    "healthcare_df.head()\n",
    "healthcare_df.loc[:,['County','All Health Care Personnel (HCP) Percent Vaccinated']].set_index('County').rename(columns={'All Health Care Personnel (HCP) Percent Vaccinated':'hcp_vaccinated'})"
   ]
  },
  {
   "cell_type": "code",
   "execution_count": 6,
   "metadata": {
    "ExecuteTime": {
     "end_time": "2018-11-28T20:29:40.544361Z",
     "start_time": "2018-11-28T20:29:40.530384Z"
    },
    "colab": {
     "base_uri": "https://localhost:8080/",
     "height": 34
    },
    "colab_type": "code",
    "id": "STyxVOqTZt0u",
    "outputId": "990e06bd-fbae-4034-f80c-0b973ee5b40c"
   },
   "outputs": [
    {
     "data": {
      "text/plain": [
       "(55, 14)"
      ]
     },
     "execution_count": 6,
     "metadata": {},
     "output_type": "execute_result"
    }
   ],
   "source": [
    "healthcare_df.shape"
   ]
  },
  {
   "cell_type": "code",
   "execution_count": 7,
   "metadata": {
    "ExecuteTime": {
     "end_time": "2018-11-28T20:30:34.696248Z",
     "start_time": "2018-11-28T20:29:40.547338Z"
    },
    "colab": {},
    "colab_type": "code",
    "id": "FHWbQMeQPHj0"
   },
   "outputs": [],
   "source": [
    "dfbrfss = pd.read_sas('LLCP2016.XPT')"
   ]
  },
  {
   "cell_type": "code",
   "execution_count": 8,
   "metadata": {
    "ExecuteTime": {
     "end_time": "2018-11-28T20:30:34.710210Z",
     "start_time": "2018-11-28T20:30:34.700239Z"
    },
    "colab": {},
    "colab_type": "code",
    "id": "Tm1HwpkHSTyA"
   },
   "outputs": [
    {
     "data": {
      "text/plain": [
       "(486303, 275)"
      ]
     },
     "execution_count": 8,
     "metadata": {},
     "output_type": "execute_result"
    }
   ],
   "source": [
    "dfbrfss.head()\n",
    "dfbrfss.shape\n",
    "\n",
    "# _STATE = state fips code, california=6\n",
    "# MEDCOST = Could Not See Doctor Because of Cost\n",
    "# SEX\n",
    "# EDUCA = Education Level\n",
    "# EMPLOY1 = Employment Status\n",
    "# INCOME2 = Income Level\n",
    "# SEATBELT\n",
    "\n",
    "#2016 BRFSS did the influenza cluster in CA, MS, MO, NE, CT, MA, TX\n",
    "# state_labels = ['CA','MS','MO','NE','CT','MA','TX']\n",
    "# state_pops = [39536653, 2984100, 6044171, 1868516, 3588184, 6859819, 26448193]     \n",
    "\n",
    "\n",
    "\n",
    "# ca_brfss = dfbrfss.loc[ dfbrfss['_STATE']==6 ]\n",
    "# ms_brfss = dfbrfss.loc[ dfbrfss['_STATE']==28 ]\n",
    "# mo_brfss = dfbrfss.loc[ dfbrfss['_STATE']==29 ]\n",
    "# ne_brfss = dfbrfss.loc[ dfbrfss['_STATE']==31 ]\n",
    "# ct_brfss = dfbrfss.loc[ dfbrfss['_STATE']==9 ]\n",
    "# ma_brfss = dfbrfss.loc[ dfbrfss['_STATE']==25 ]\n",
    "# tx_brfss = dfbrfss.loc[ dfbrfss['_STATE']==48 ]\n",
    "\n"
   ]
  },
  {
   "cell_type": "code",
   "execution_count": 9,
   "metadata": {
    "ExecuteTime": {
     "end_time": "2018-11-28T20:30:34.731168Z",
     "start_time": "2018-11-28T20:30:34.712206Z"
    }
   },
   "outputs": [
    {
     "data": {
      "text/plain": [
       "[<State:Alabama>,\n",
       " <State:Alaska>,\n",
       " <State:Arizona>,\n",
       " <State:Arkansas>,\n",
       " <State:California>,\n",
       " <State:Colorado>,\n",
       " <State:Connecticut>,\n",
       " <State:Delaware>,\n",
       " <State:District of Columbia>,\n",
       " <State:Florida>,\n",
       " <State:Georgia>,\n",
       " <State:Hawaii>,\n",
       " <State:Idaho>,\n",
       " <State:Illinois>,\n",
       " <State:Indiana>,\n",
       " <State:Iowa>,\n",
       " <State:Kansas>,\n",
       " <State:Kentucky>,\n",
       " <State:Louisiana>,\n",
       " <State:Maine>,\n",
       " <State:Maryland>,\n",
       " <State:Massachusetts>,\n",
       " <State:Michigan>,\n",
       " <State:Minnesota>,\n",
       " <State:Mississippi>,\n",
       " <State:Missouri>,\n",
       " <State:Montana>,\n",
       " <State:Nebraska>,\n",
       " <State:Nevada>,\n",
       " <State:New Hampshire>,\n",
       " <State:New Jersey>,\n",
       " <State:New Mexico>,\n",
       " <State:New York>,\n",
       " <State:North Carolina>,\n",
       " <State:North Dakota>,\n",
       " <State:Ohio>,\n",
       " <State:Oklahoma>,\n",
       " <State:Oregon>,\n",
       " <State:Pennsylvania>,\n",
       " <State:Rhode Island>,\n",
       " <State:South Carolina>,\n",
       " <State:South Dakota>,\n",
       " <State:Tennessee>,\n",
       " <State:Texas>,\n",
       " <State:Utah>,\n",
       " <State:Vermont>,\n",
       " <State:Virginia>,\n",
       " <State:Washington>,\n",
       " <State:West Virginia>,\n",
       " <State:Wisconsin>,\n",
       " <State:Wyoming>]"
      ]
     },
     "execution_count": 9,
     "metadata": {},
     "output_type": "execute_result"
    }
   ],
   "source": [
    "states.STATES"
   ]
  },
  {
   "cell_type": "code",
   "execution_count": 10,
   "metadata": {
    "ExecuteTime": {
     "end_time": "2018-11-28T20:30:36.835059Z",
     "start_time": "2018-11-28T20:30:34.734148Z"
    }
   },
   "outputs": [],
   "source": [
    "from census import Census\n",
    "from us import states\n",
    "state_list = states.STATES\n",
    "flu_brfss_list=[]\n",
    "\n",
    "for state in state_list:\n",
    "    flu_brfss_list.append( dfbrfss.loc[ dfbrfss['_STATE']== int(state.fips) ] )"
   ]
  },
  {
   "cell_type": "code",
   "execution_count": null,
   "metadata": {
    "ExecuteTime": {
     "end_time": "2018-11-28T19:32:57.508378Z",
     "start_time": "2018-11-28T19:32:57.490398Z"
    }
   },
   "outputs": [],
   "source": []
  },
  {
   "cell_type": "code",
   "execution_count": 11,
   "metadata": {
    "ExecuteTime": {
     "end_time": "2018-11-28T20:30:36.914697Z",
     "start_time": "2018-11-28T20:30:36.836900Z"
    },
    "colab": {
     "base_uri": "https://localhost:8080/",
     "height": 140
    },
    "colab_type": "code",
    "id": "vS6b-GvNGKpL",
    "outputId": "5cd1cade-fa54-414e-b9dc-e99c6c9c3f9a"
   },
   "outputs": [
    {
     "data": {
      "text/plain": [
       "(7031, 275)"
      ]
     },
     "metadata": {},
     "output_type": "display_data"
    },
    {
     "data": {
      "text/plain": [
       "(2914, 275)"
      ]
     },
     "metadata": {},
     "output_type": "display_data"
    },
    {
     "data": {
      "text/plain": [
       "(10952, 275)"
      ]
     },
     "metadata": {},
     "output_type": "display_data"
    },
    {
     "data": {
      "text/plain": [
       "(5298, 275)"
      ]
     },
     "metadata": {},
     "output_type": "display_data"
    },
    {
     "data": {
      "text/plain": [
       "(11393, 275)"
      ]
     },
     "metadata": {},
     "output_type": "display_data"
    },
    {
     "data": {
      "text/plain": [
       "(14958, 275)"
      ]
     },
     "metadata": {},
     "output_type": "display_data"
    },
    {
     "data": {
      "text/plain": [
       "(11041, 275)"
      ]
     },
     "metadata": {},
     "output_type": "display_data"
    },
    {
     "data": {
      "text/plain": [
       "(4057, 275)"
      ]
     },
     "metadata": {},
     "output_type": "display_data"
    },
    {
     "data": {
      "text/plain": [
       "(3852, 275)"
      ]
     },
     "metadata": {},
     "output_type": "display_data"
    },
    {
     "data": {
      "text/plain": [
       "(36955, 275)"
      ]
     },
     "metadata": {},
     "output_type": "display_data"
    },
    {
     "data": {
      "text/plain": [
       "(5381, 275)"
      ]
     },
     "metadata": {},
     "output_type": "display_data"
    },
    {
     "data": {
      "text/plain": [
       "(8087, 275)"
      ]
     },
     "metadata": {},
     "output_type": "display_data"
    },
    {
     "data": {
      "text/plain": [
       "(5258, 275)"
      ]
     },
     "metadata": {},
     "output_type": "display_data"
    },
    {
     "data": {
      "text/plain": [
       "(4764, 275)"
      ]
     },
     "metadata": {},
     "output_type": "display_data"
    },
    {
     "data": {
      "text/plain": [
       "(11066, 275)"
      ]
     },
     "metadata": {},
     "output_type": "display_data"
    },
    {
     "data": {
      "text/plain": [
       "(7257, 275)"
      ]
     },
     "metadata": {},
     "output_type": "display_data"
    },
    {
     "data": {
      "text/plain": [
       "(12188, 275)"
      ]
     },
     "metadata": {},
     "output_type": "display_data"
    },
    {
     "data": {
      "text/plain": [
       "(10265, 275)"
      ]
     },
     "metadata": {},
     "output_type": "display_data"
    },
    {
     "data": {
      "text/plain": [
       "(5256, 275)"
      ]
     },
     "metadata": {},
     "output_type": "display_data"
    },
    {
     "data": {
      "text/plain": [
       "(10019, 275)"
      ]
     },
     "metadata": {},
     "output_type": "display_data"
    },
    {
     "data": {
      "text/plain": [
       "(18473, 275)"
      ]
     },
     "metadata": {},
     "output_type": "display_data"
    },
    {
     "data": {
      "text/plain": [
       "(8415, 275)"
      ]
     },
     "metadata": {},
     "output_type": "display_data"
    },
    {
     "data": {
      "text/plain": [
       "(12024, 275)"
      ]
     },
     "metadata": {},
     "output_type": "display_data"
    },
    {
     "data": {
      "text/plain": [
       "(16831, 275)"
      ]
     },
     "metadata": {},
     "output_type": "display_data"
    },
    {
     "data": {
      "text/plain": [
       "(5135, 275)"
      ]
     },
     "metadata": {},
     "output_type": "display_data"
    },
    {
     "data": {
      "text/plain": [
       "(7126, 275)"
      ]
     },
     "metadata": {},
     "output_type": "display_data"
    },
    {
     "data": {
      "text/plain": [
       "(5971, 275)"
      ]
     },
     "metadata": {},
     "output_type": "display_data"
    },
    {
     "data": {
      "text/plain": [
       "(15183, 275)"
      ]
     },
     "metadata": {},
     "output_type": "display_data"
    },
    {
     "data": {
      "text/plain": [
       "(4344, 275)"
      ]
     },
     "metadata": {},
     "output_type": "display_data"
    },
    {
     "data": {
      "text/plain": [
       "(6420, 275)"
      ]
     },
     "metadata": {},
     "output_type": "display_data"
    },
    {
     "data": {
      "text/plain": [
       "(7652, 275)"
      ]
     },
     "metadata": {},
     "output_type": "display_data"
    },
    {
     "data": {
      "text/plain": [
       "(6024, 275)"
      ]
     },
     "metadata": {},
     "output_type": "display_data"
    },
    {
     "data": {
      "text/plain": [
       "(34190, 275)"
      ]
     },
     "metadata": {},
     "output_type": "display_data"
    },
    {
     "data": {
      "text/plain": [
       "(6536, 275)"
      ]
     },
     "metadata": {},
     "output_type": "display_data"
    },
    {
     "data": {
      "text/plain": [
       "(5742, 275)"
      ]
     },
     "metadata": {},
     "output_type": "display_data"
    },
    {
     "data": {
      "text/plain": [
       "(12389, 275)"
      ]
     },
     "metadata": {},
     "output_type": "display_data"
    },
    {
     "data": {
      "text/plain": [
       "(6925, 275)"
      ]
     },
     "metadata": {},
     "output_type": "display_data"
    },
    {
     "data": {
      "text/plain": [
       "(5439, 275)"
      ]
     },
     "metadata": {},
     "output_type": "display_data"
    },
    {
     "data": {
      "text/plain": [
       "(6810, 275)"
      ]
     },
     "metadata": {},
     "output_type": "display_data"
    },
    {
     "data": {
      "text/plain": [
       "(5457, 275)"
      ]
     },
     "metadata": {},
     "output_type": "display_data"
    },
    {
     "data": {
      "text/plain": [
       "(11236, 275)"
      ]
     },
     "metadata": {},
     "output_type": "display_data"
    },
    {
     "data": {
      "text/plain": [
       "(5767, 275)"
      ]
     },
     "metadata": {},
     "output_type": "display_data"
    },
    {
     "data": {
      "text/plain": [
       "(6167, 275)"
      ]
     },
     "metadata": {},
     "output_type": "display_data"
    },
    {
     "data": {
      "text/plain": [
       "(11709, 275)"
      ]
     },
     "metadata": {},
     "output_type": "display_data"
    },
    {
     "data": {
      "text/plain": [
       "(10988, 275)"
      ]
     },
     "metadata": {},
     "output_type": "display_data"
    },
    {
     "data": {
      "text/plain": [
       "(6540, 275)"
      ]
     },
     "metadata": {},
     "output_type": "display_data"
    },
    {
     "data": {
      "text/plain": [
       "(9002, 275)"
      ]
     },
     "metadata": {},
     "output_type": "display_data"
    },
    {
     "data": {
      "text/plain": [
       "(14259, 275)"
      ]
     },
     "metadata": {},
     "output_type": "display_data"
    },
    {
     "data": {
      "text/plain": [
       "(7151, 275)"
      ]
     },
     "metadata": {},
     "output_type": "display_data"
    },
    {
     "data": {
      "text/plain": [
       "(5271, 275)"
      ]
     },
     "metadata": {},
     "output_type": "display_data"
    },
    {
     "data": {
      "text/plain": [
       "(4497, 275)"
      ]
     },
     "metadata": {},
     "output_type": "display_data"
    }
   ],
   "source": [
    "for state_brfss in flu_brfss_list:\n",
    "    display( state_brfss.shape )"
   ]
  },
  {
   "cell_type": "code",
   "execution_count": 12,
   "metadata": {
    "ExecuteTime": {
     "end_time": "2018-11-28T20:30:38.654366Z",
     "start_time": "2018-11-28T20:30:36.917685Z"
    },
    "colab": {},
    "colab_type": "code",
    "id": "h-tcRfyfZK-S"
   },
   "outputs": [],
   "source": [
    "pd.set_option('display.max_columns', None)\n",
    "pd.set_option('display.max_rows', None)\n",
    "feature_list = ['MEDCOST','SEX','_RACE','EDUCA','INCOME2','HLTHPLN1']\n",
    "\n",
    "state_data=[]\n",
    "for i, state_brfss in enumerate( flu_brfss_list ):\n",
    "    state_data.append(state_brfss.loc[:,\n",
    "    ('MEDCOST','SEX','_RACE','EDUCA','INCOME2','HLTHPLN1','FLUSHOT6','_LLCPWT')])\n",
    "\n",
    "    #only keeping Yes and No, which is around 99% of the responses\n",
    "    state_data[i] = state_data[i].loc[ (state_data[i]['FLUSHOT6']==1) | (state_data[i]['FLUSHOT6']==2) ]\n",
    "\n",
    "    #only keeping valid income answers 1-8\n",
    "    state_data[i] = state_data[i].loc[ (state_data[i]['INCOME2']<=8) ]\n",
    "    state_data[i] = state_data[i].loc[ (state_data[i]['_RACE']<=8) ]\n",
    "    state_data[i] = state_data[i].loc[ (state_data[i]['EDUCA']<=6) ]\n",
    "    state_data[i] = state_data[i].loc[ (state_data[i]['SEX']<=2) ]\n",
    "    state_data[i] = state_data[i].loc[ (state_data[i]['MEDCOST']<=2) ]\n",
    "    state_data[i] = state_data[i].loc[ (state_data[i]['HLTHPLN1']<=2) ]\n",
    "    state_data[i] = state_data[i].astype(str)\n",
    "    state_data[i]['INCOME2'] = state_data[i]['INCOME2'].astype(float)\n",
    "    state_data[i]['EDUCA'] = state_data[i]['EDUCA'].astype(float)"
   ]
  },
  {
   "cell_type": "code",
   "execution_count": null,
   "metadata": {
    "ExecuteTime": {
     "end_time": "2018-11-28T20:28:53.976742Z",
     "start_time": "2018-11-28T20:22:24.990Z"
    },
    "colab": {},
    "colab_type": "code",
    "id": "E2c7DrlnYmFe"
   },
   "outputs": [],
   "source": [
    "#sampling 10,000 people from each state using weights\n",
    "state_data_samples=[]\n",
    "# for (data, pop) in zip(state_data, state_pops):\n",
    "    \n",
    "df = state_data[4].sample( n=10000, weights=state_data[4]['_LLCPWT'], replace=True)\n",
    "state_data_samples.append(df)"
   ]
  },
  {
   "cell_type": "code",
   "execution_count": null,
   "metadata": {
    "ExecuteTime": {
     "end_time": "2018-11-28T20:28:53.978704Z",
     "start_time": "2018-11-28T20:24:24.991Z"
    },
    "colab": {},
    "colab_type": "code",
    "id": "O87lBQw_iqOL"
   },
   "outputs": [],
   "source": [
    "# Import train_test_split function\n",
    "from sklearn.model_selection import train_test_split\n",
    "\n",
    "X_list = []\n",
    "y_list = []\n",
    "X_train_list = []\n",
    "X_test_list  = []\n",
    "y_train_list = []\n",
    "y_test_list  = []\n",
    "for i, data in enumerate(state_data_samples):\n",
    "    # Features\n",
    "    X = pd.get_dummies(data[feature_list],drop_first=True)\n",
    "    # Labels\n",
    "    y = data['FLUSHOT6']\n",
    "    # Split dataset into training set and test set\n",
    "    X_train, X_test, y_train, y_test = train_test_split(X, y, test_size=0.3) # 70% training and 30% test\n",
    "    X_list.append(X)\n",
    "    y_list.append(y)\n",
    "    X_train_list.append(X_train)\n",
    "    X_test_list.append(X_test)\n",
    "    y_train_list.append(y_train)\n",
    "    y_test_list.append(y_test)"
   ]
  },
  {
   "cell_type": "code",
   "execution_count": null,
   "metadata": {
    "ExecuteTime": {
     "end_time": "2018-11-28T20:28:53.980701Z",
     "start_time": "2018-11-28T20:24:29.157Z"
    },
    "colab": {
     "base_uri": "https://localhost:8080/",
     "height": 3556
    },
    "colab_type": "code",
    "id": "euRvC05aZVrH",
    "outputId": "be9c8542-db63-42b7-bed9-9dd68281270d"
   },
   "outputs": [],
   "source": [
    "import matplotlib.pyplot as plt\n",
    "import seaborn as sns\n",
    "%matplotlib inline\n",
    "\n",
    "for (X,y,state) in zip(X_list, y_list,state_list):\n",
    "    print(state.name)\n",
    "    features = X\n",
    "    labels = y\n",
    "    plt.figure(figsize=(8,8))\n",
    "    sns.heatmap(features.corr(), annot=True, square=True, cmap='coolwarm')\n",
    "    savefig('feature_correlation_'+state.name+'.png')\n",
    "    plt.pause(0.05)\n",
    "   \n",
    "plt.show()"
   ]
  },
  {
   "cell_type": "code",
   "execution_count": null,
   "metadata": {
    "ExecuteTime": {
     "end_time": "2018-11-28T20:28:53.982693Z",
     "start_time": "2018-11-28T20:24:36.351Z"
    },
    "colab": {},
    "colab_type": "code",
    "id": "UFU2SISwlW7l"
   },
   "outputs": [],
   "source": [
    "#Import Random Forest Model\n",
    "from sklearn.ensemble import RandomForestClassifier\n",
    "#Train the model using the training sets y_pred=clf.predict(X_test)\n",
    "y_pred_list=[]\n",
    "clf_list=[]\n",
    "for (X_train,y_train, X_test) in zip(X_train_list, y_train_list,X_test_list):\n",
    "    clf=RandomForestClassifier(n_estimators=100)\n",
    "    clf.fit(X_train,y_train)\n",
    "    y_pred_list.append( clf.predict(X_test) )\n",
    "    clf_list.append(clf)"
   ]
  },
  {
   "cell_type": "code",
   "execution_count": null,
   "metadata": {
    "ExecuteTime": {
     "end_time": "2018-11-28T20:28:53.984687Z",
     "start_time": "2018-11-28T20:24:38.812Z"
    },
    "colab": {
     "base_uri": "https://localhost:8080/",
     "height": 140
    },
    "colab_type": "code",
    "id": "lpXT2-rin8GJ",
    "outputId": "cfd6bc24-3c18-4b2d-95e5-c1aa3b73e23e"
   },
   "outputs": [],
   "source": [
    "#Import scikit-learn metrics module for accuracy calculation\n",
    "from sklearn import metrics\n",
    "# Model Accuracy, how often is the classifier correct?\n",
    "for (y_test,y_pred,state_abbrev) in zip(y_test_list,y_pred_list,state_labels):\n",
    "    print(\"Accuracy for \"+state_abbrev+\": \", metrics.accuracy_score(y_test, y_pred))"
   ]
  },
  {
   "cell_type": "code",
   "execution_count": null,
   "metadata": {
    "ExecuteTime": {
     "end_time": "2018-11-28T20:28:54.632110Z",
     "start_time": "2018-11-28T20:24:41.567Z"
    },
    "colab": {},
    "colab_type": "code",
    "id": "HCWEYZZ5Ma4B"
   },
   "outputs": [],
   "source": [
    "feature_imp_list=[]\n",
    "for (clf,X,state_abbrev) in zip(clf_list,X_list,state_labels):\n",
    "    feature_imp = pd.Series(clf.feature_importances_,index=X.columns.tolist()).sort_values(ascending=False)\n",
    "    feature_imp_list.append(feature_imp)"
   ]
  },
  {
   "cell_type": "code",
   "execution_count": null,
   "metadata": {
    "ExecuteTime": {
     "end_time": "2018-11-28T20:28:54.633108Z",
     "start_time": "2018-11-28T20:24:42.847Z"
    },
    "colab": {
     "base_uri": "https://localhost:8080/",
     "height": 1758
    },
    "colab_type": "code",
    "id": "-Wcw_-teSSPK",
    "outputId": "59f3e17e-fd45-431e-807c-50ad0458767a"
   },
   "outputs": [],
   "source": [
    "for (feature_imp,state_abbrev) in zip(feature_imp_list,state_labels):\n",
    "    plt.figure(figsize=(5,3)) \n",
    "    # Creating a bar plot\n",
    "    sns.barplot(x=feature_imp, y=feature_imp.index)\n",
    "    # Add labels to your graph\n",
    "    plt.xlabel('Feature Importance Score for'+state_abbrev)\n",
    "    plt.ylabel('Features')\n",
    "    plt.title(\"Visualizing Important Features for\"+state_abbrev)\n",
    "    plt.legend()\n",
    "plt.show()"
   ]
  },
  {
   "cell_type": "code",
   "execution_count": null,
   "metadata": {
    "ExecuteTime": {
     "end_time": "2018-11-28T20:28:54.635103Z",
     "start_time": "2018-11-28T20:24:48.928Z"
    },
    "colab": {},
    "colab_type": "code",
    "id": "e8I46fJWokdN"
   },
   "outputs": [],
   "source": [
    "!pip install graphviz\n",
    "!pip install pydotplus\n",
    "!apt-get install python-pydot -y --allow-unauthenticated"
   ]
  },
  {
   "cell_type": "code",
   "execution_count": null,
   "metadata": {
    "ExecuteTime": {
     "end_time": "2018-11-28T20:28:54.636100Z",
     "start_time": "2018-11-28T20:24:49.440Z"
    },
    "colab": {
     "base_uri": "https://localhost:8080/",
     "height": 122
    },
    "colab_type": "code",
    "id": "lLPPnFg4lg4v",
    "outputId": "2ff7f7e6-8b72-4a2a-a957-357b257bf5f0"
   },
   "outputs": [],
   "source": [
    "from sklearn.externals.six import StringIO  \n",
    "from IPython.display import Image  \n",
    "from sklearn.tree import export_graphviz\n",
    "import pydotplus\n",
    "\n",
    "for clf in clf_list:\n",
    "    estimator = clf.estimators_[12]\n",
    "    dot_data = StringIO()\n",
    "    export_graphviz(estimator, out_file=dot_data,  \n",
    "                    filled=True, rounded=True,\n",
    "                    special_characters=True)\n",
    "    graph = pydotplus.graph_from_dot_data(dot_data.getvalue())  \n",
    "    Image(graph.create_png())"
   ]
  },
  {
   "cell_type": "markdown",
   "metadata": {
    "colab_type": "text",
    "id": "_-UaXpN2Uz7J"
   },
   "source": [
    "```\n",
    "_RACE\n",
    "1 White only, non-Hispanic\n",
    "2 Black only, non-Hispanic\n",
    "3 American Indian or Alaskan Native only,Non-Hispanic\n",
    "4 Asian only, non-Hispanic\n",
    "5 Native Hawaiian or other Pacific Islander only,Non-Hispanic\n",
    "6 Other race only, non-Hispanic\n",
    "7 Multiracial, non-Hispanic\n",
    "8 Hispanic\n",
    "\n",
    "\n",
    "EDUCA\n",
    "# 1=Never attended school or only kindergarten\n",
    "2=Grades 1 through 8 (Elementary)\n",
    "3=Grades 9 through 11 (Some high school)\n",
    "4=Grade 12 or GED (High school graduate) \n",
    "5=College 1 year to 3 years (Some college or technical school)\n",
    "6=College 4 years or more (College graduate) \n",
    "9=refused\n",
    "\n",
    "\n",
    " INCOME2\n",
    "1 Less than $10,000\n",
    "2 Less than $15,000 ($10,000 to less than $15,000)\n",
    "3 Less than $20,000 ($15,000 to less than $20,000)\n",
    "4 Less than $25,000 ($20,000 to less than $25,000)\n",
    "5 Less than $35,000 ($25,000 to less than $35,000)\n",
    "6 Less than $50,000 ($35,000 to less than $50,000)\n",
    "7 Less than $75,000 ($50,000 to less than $75,000)\n",
    "8 $75,000 or more 127,081 26.34 27.47\n",
    "77 Don’t know/Not sure 35,338 7.32 8.24\n",
    "99 Refused 42,177 8.74 7.85\n",
    "```\n"
   ]
  },
  {
   "cell_type": "code",
   "execution_count": 0,
   "metadata": {
    "colab": {},
    "colab_type": "code",
    "id": "PdoDU3YdS6OK"
   },
   "outputs": [],
   "source": []
  }
 ],
 "metadata": {
  "colab": {
   "collapsed_sections": [],
   "name": "cdc-insight18c-idx.ipynb",
   "provenance": [],
   "version": "0.3.2"
  },
  "kernelspec": {
   "display_name": "Python 3",
   "language": "python",
   "name": "python3"
  },
  "language_info": {
   "codemirror_mode": {
    "name": "ipython",
    "version": 3
   },
   "file_extension": ".py",
   "mimetype": "text/x-python",
   "name": "python",
   "nbconvert_exporter": "python",
   "pygments_lexer": "ipython3",
   "version": "3.6.6"
  },
  "varInspector": {
   "cols": {
    "lenName": 16,
    "lenType": 16,
    "lenVar": 40
   },
   "kernels_config": {
    "python": {
     "delete_cmd_postfix": "",
     "delete_cmd_prefix": "del ",
     "library": "var_list.py",
     "varRefreshCmd": "print(var_dic_list())"
    },
    "r": {
     "delete_cmd_postfix": ") ",
     "delete_cmd_prefix": "rm(",
     "library": "var_list.r",
     "varRefreshCmd": "cat(var_dic_list()) "
    }
   },
   "types_to_exclude": [
    "module",
    "function",
    "builtin_function_or_method",
    "instance",
    "_Feature"
   ],
   "window_display": false
  }
 },
 "nbformat": 4,
 "nbformat_minor": 1
}
